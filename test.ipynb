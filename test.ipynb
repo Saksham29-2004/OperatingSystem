{
 "cells": [
  {
   "cell_type": "code",
   "execution_count": 42,
   "metadata": {},
   "outputs": [
    {
     "name": "stdout",
     "output_type": "stream",
     "text": [
      "Defaulting to user installation because normal site-packages is not writeable\n",
      "Requirement already satisfied: tensorflow in c:\\users\\saksh\\appdata\\roaming\\python\\python312\\site-packages (2.16.1)\n",
      "Requirement already satisfied: tensorflow-intel==2.16.1 in c:\\users\\saksh\\appdata\\roaming\\python\\python312\\site-packages (from tensorflow) (2.16.1)\n",
      "Requirement already satisfied: absl-py>=1.0.0 in c:\\users\\saksh\\appdata\\roaming\\python\\python312\\site-packages (from tensorflow-intel==2.16.1->tensorflow) (2.1.0)\n",
      "Requirement already satisfied: astunparse>=1.6.0 in c:\\users\\saksh\\appdata\\roaming\\python\\python312\\site-packages (from tensorflow-intel==2.16.1->tensorflow) (1.6.3)\n",
      "Requirement already satisfied: flatbuffers>=23.5.26 in c:\\users\\saksh\\appdata\\roaming\\python\\python312\\site-packages (from tensorflow-intel==2.16.1->tensorflow) (24.3.25)\n",
      "Requirement already satisfied: gast!=0.5.0,!=0.5.1,!=0.5.2,>=0.2.1 in c:\\users\\saksh\\appdata\\roaming\\python\\python312\\site-packages (from tensorflow-intel==2.16.1->tensorflow) (0.5.4)\n",
      "Requirement already satisfied: google-pasta>=0.1.1 in c:\\users\\saksh\\appdata\\roaming\\python\\python312\\site-packages (from tensorflow-intel==2.16.1->tensorflow) (0.2.0)\n",
      "Requirement already satisfied: h5py>=3.10.0 in c:\\users\\saksh\\appdata\\roaming\\python\\python312\\site-packages (from tensorflow-intel==2.16.1->tensorflow) (3.11.0)\n",
      "Requirement already satisfied: libclang>=13.0.0 in c:\\users\\saksh\\appdata\\roaming\\python\\python312\\site-packages (from tensorflow-intel==2.16.1->tensorflow) (18.1.1)\n",
      "Requirement already satisfied: ml-dtypes~=0.3.1 in c:\\users\\saksh\\appdata\\roaming\\python\\python312\\site-packages (from tensorflow-intel==2.16.1->tensorflow) (0.3.2)\n",
      "Requirement already satisfied: opt-einsum>=2.3.2 in c:\\users\\saksh\\appdata\\roaming\\python\\python312\\site-packages (from tensorflow-intel==2.16.1->tensorflow) (3.3.0)\n",
      "Requirement already satisfied: packaging in c:\\users\\saksh\\appdata\\roaming\\python\\python312\\site-packages (from tensorflow-intel==2.16.1->tensorflow) (23.2)\n",
      "Requirement already satisfied: protobuf!=4.21.0,!=4.21.1,!=4.21.2,!=4.21.3,!=4.21.4,!=4.21.5,<5.0.0dev,>=3.20.3 in c:\\users\\saksh\\appdata\\roaming\\python\\python312\\site-packages (from tensorflow-intel==2.16.1->tensorflow) (4.25.3)\n",
      "Requirement already satisfied: requests<3,>=2.21.0 in c:\\users\\saksh\\appdata\\roaming\\python\\python312\\site-packages (from tensorflow-intel==2.16.1->tensorflow) (2.31.0)\n",
      "Requirement already satisfied: setuptools in c:\\users\\saksh\\appdata\\roaming\\python\\python312\\site-packages (from tensorflow-intel==2.16.1->tensorflow) (69.1.1)\n",
      "Requirement already satisfied: six>=1.12.0 in c:\\users\\saksh\\appdata\\roaming\\python\\python312\\site-packages (from tensorflow-intel==2.16.1->tensorflow) (1.16.0)\n",
      "Requirement already satisfied: termcolor>=1.1.0 in c:\\users\\saksh\\appdata\\roaming\\python\\python312\\site-packages (from tensorflow-intel==2.16.1->tensorflow) (2.4.0)\n",
      "Requirement already satisfied: typing-extensions>=3.6.6 in c:\\users\\saksh\\appdata\\roaming\\python\\python312\\site-packages (from tensorflow-intel==2.16.1->tensorflow) (4.10.0)\n",
      "Requirement already satisfied: wrapt>=1.11.0 in c:\\users\\saksh\\appdata\\roaming\\python\\python312\\site-packages (from tensorflow-intel==2.16.1->tensorflow) (1.16.0)\n",
      "Requirement already satisfied: grpcio<2.0,>=1.24.3 in c:\\users\\saksh\\appdata\\roaming\\python\\python312\\site-packages (from tensorflow-intel==2.16.1->tensorflow) (1.62.1)\n",
      "Requirement already satisfied: tensorboard<2.17,>=2.16 in c:\\users\\saksh\\appdata\\roaming\\python\\python312\\site-packages (from tensorflow-intel==2.16.1->tensorflow) (2.16.2)\n",
      "Requirement already satisfied: keras>=3.0.0 in c:\\users\\saksh\\appdata\\roaming\\python\\python312\\site-packages (from tensorflow-intel==2.16.1->tensorflow) (3.2.1)\n",
      "Requirement already satisfied: numpy<2.0.0,>=1.26.0 in c:\\users\\saksh\\appdata\\roaming\\python\\python312\\site-packages (from tensorflow-intel==2.16.1->tensorflow) (1.26.4)\n",
      "Requirement already satisfied: wheel<1.0,>=0.23.0 in c:\\users\\saksh\\appdata\\roaming\\python\\python312\\site-packages (from astunparse>=1.6.0->tensorflow-intel==2.16.1->tensorflow) (0.43.0)\n",
      "Requirement already satisfied: rich in c:\\users\\saksh\\appdata\\roaming\\python\\python312\\site-packages (from keras>=3.0.0->tensorflow-intel==2.16.1->tensorflow) (13.7.1)\n",
      "Requirement already satisfied: namex in c:\\users\\saksh\\appdata\\roaming\\python\\python312\\site-packages (from keras>=3.0.0->tensorflow-intel==2.16.1->tensorflow) (0.0.7)\n",
      "Requirement already satisfied: optree in c:\\users\\saksh\\appdata\\roaming\\python\\python312\\site-packages (from keras>=3.0.0->tensorflow-intel==2.16.1->tensorflow) (0.11.0)\n",
      "Requirement already satisfied: charset-normalizer<4,>=2 in c:\\users\\saksh\\appdata\\roaming\\python\\python312\\site-packages (from requests<3,>=2.21.0->tensorflow-intel==2.16.1->tensorflow) (3.3.2)\n",
      "Requirement already satisfied: idna<4,>=2.5 in c:\\users\\saksh\\appdata\\roaming\\python\\python312\\site-packages (from requests<3,>=2.21.0->tensorflow-intel==2.16.1->tensorflow) (3.6)\n",
      "Requirement already satisfied: urllib3<3,>=1.21.1 in c:\\users\\saksh\\appdata\\roaming\\python\\python312\\site-packages (from requests<3,>=2.21.0->tensorflow-intel==2.16.1->tensorflow) (2.2.1)\n",
      "Requirement already satisfied: certifi>=2017.4.17 in c:\\users\\saksh\\appdata\\roaming\\python\\python312\\site-packages (from requests<3,>=2.21.0->tensorflow-intel==2.16.1->tensorflow) (2024.2.2)\n",
      "Requirement already satisfied: markdown>=2.6.8 in c:\\users\\saksh\\appdata\\roaming\\python\\python312\\site-packages (from tensorboard<2.17,>=2.16->tensorflow-intel==2.16.1->tensorflow) (3.6)\n",
      "Requirement already satisfied: tensorboard-data-server<0.8.0,>=0.7.0 in c:\\users\\saksh\\appdata\\roaming\\python\\python312\\site-packages (from tensorboard<2.17,>=2.16->tensorflow-intel==2.16.1->tensorflow) (0.7.2)\n",
      "Requirement already satisfied: werkzeug>=1.0.1 in c:\\users\\saksh\\appdata\\roaming\\python\\python312\\site-packages (from tensorboard<2.17,>=2.16->tensorflow-intel==2.16.1->tensorflow) (3.0.1)\n",
      "Requirement already satisfied: MarkupSafe>=2.1.1 in c:\\users\\saksh\\appdata\\roaming\\python\\python312\\site-packages (from werkzeug>=1.0.1->tensorboard<2.17,>=2.16->tensorflow-intel==2.16.1->tensorflow) (2.1.5)\n",
      "Requirement already satisfied: markdown-it-py>=2.2.0 in c:\\users\\saksh\\appdata\\roaming\\python\\python312\\site-packages (from rich->keras>=3.0.0->tensorflow-intel==2.16.1->tensorflow) (3.0.0)\n",
      "Requirement already satisfied: pygments<3.0.0,>=2.13.0 in c:\\users\\saksh\\appdata\\roaming\\python\\python312\\site-packages (from rich->keras>=3.0.0->tensorflow-intel==2.16.1->tensorflow) (2.17.2)\n",
      "Requirement already satisfied: mdurl~=0.1 in c:\\users\\saksh\\appdata\\roaming\\python\\python312\\site-packages (from markdown-it-py>=2.2.0->rich->keras>=3.0.0->tensorflow-intel==2.16.1->tensorflow) (0.1.2)\n",
      "Note: you may need to restart the kernel to use updated packages.\n"
     ]
    }
   ],
   "source": [
    "%pip install tensorflow"
   ]
  },
  {
   "cell_type": "code",
   "execution_count": 43,
   "metadata": {},
   "outputs": [
    {
     "name": "stderr",
     "output_type": "stream",
     "text": [
      "C:\\Users\\saksh\\AppData\\Local\\Temp\\ipykernel_19088\\2243500674.py:16: DtypeWarning: Columns (0) have mixed types. Specify dtype option on import or set low_memory=False.\n",
      "  df_trace = pd.read_csv(file_path, delimiter=delimiter, names=data_columns, index_col=0)\n"
     ]
    },
    {
     "name": "stdout",
     "output_type": "stream",
     "text": [
      "                          JobId  SubmitTime  WaitTime  RunTime  NProc  \\\n",
      "index                                                                   \n",
      "0                  1.083659e+09         1.0       0.0      4.0   -1.0   \n",
      "1                  1.083659e+09         1.0      19.0      1.0   -1.0   \n",
      "2                  1.083659e+09         2.0      10.0      5.0   -1.0   \n",
      "3                  1.083659e+09         5.0       8.0     90.0   -1.0   \n",
      "4                  1.083659e+09         5.0      19.0    100.0   -1.0   \n",
      "...                         ...         ...       ...      ...    ...   \n",
      "1020191            1.163165e+09         1.0      -1.0      2.0   -1.0   \n",
      "1020192            1.163165e+09         1.0      64.0      1.0   -1.0   \n",
      "1020193            1.163166e+09         4.0      -1.0      1.0   -1.0   \n",
      "1020194            1.163166e+09         4.0      -1.0      3.0   -1.0   \n",
      "# Record: 1020195           NaN         NaN       NaN      NaN    NaN   \n",
      "\n",
      "                   AverageCPUTimeUsed  UsedMemory  ReqNProcs  ReqTime  \\\n",
      "index                                                                   \n",
      "0                                -1.0         4.0     3600.0     -1.0   \n",
      "1                                -1.0         1.0     3600.0     -1.0   \n",
      "2                                -1.0         5.0     3600.0     -1.0   \n",
      "3                                -1.0        90.0     3600.0     -1.0   \n",
      "4                                -1.0       100.0     3600.0     -1.0   \n",
      "...                               ...         ...        ...      ...   \n",
      "1020191                          -1.0         2.0    36000.0     -1.0   \n",
      "1020192                          -1.0         1.0     3600.0     -1.0   \n",
      "1020193                          -1.0         1.0     3600.0     -1.0   \n",
      "1020194                          -1.0         3.0     7120.0     -1.0   \n",
      "# Record: 1020195                 NaN         NaN        NaN      NaN   \n",
      "\n",
      "                   ReqMemory  ... JobStructureParams UsedNetwork  \\\n",
      "index                         ...                                  \n",
      "0                        1.0  ...               -1.0        -1.0   \n",
      "1                        1.0  ...               -1.0        -1.0   \n",
      "2                        1.0  ...               -1.0        -1.0   \n",
      "3                        1.0  ...               -1.0        -1.0   \n",
      "4                        1.0  ...               -1.0        -1.0   \n",
      "...                      ...  ...                ...         ...   \n",
      "1020191                106.0  ...               -1.0        -1.0   \n",
      "1020192                  1.0  ...               -1.0        -1.0   \n",
      "1020193                  5.0  ...               -1.0        -1.0   \n",
      "1020194                  5.0  ...               -1.0        -1.0   \n",
      "# Record: 1020195        NaN  ...                NaN         NaN   \n",
      "\n",
      "                  UsedLocalDiskSpace UsedResources  ReqPlatform ReqNetwork  \\\n",
      "index                                                                        \n",
      "0                               -1.0          -1.0         -1.0       -1.0   \n",
      "1                               -1.0          -1.0         -1.0       -1.0   \n",
      "2                               -1.0          -1.0         -1.0       -1.0   \n",
      "3                               -1.0          -1.0         -1.0       -1.0   \n",
      "4                               -1.0          -1.0         -1.0       -1.0   \n",
      "...                              ...           ...          ...        ...   \n",
      "1020191                         -1.0          -1.0         -1.0       -1.0   \n",
      "1020192                         -1.0          -1.0         -1.0       -1.0   \n",
      "1020193                         -1.0          -1.0         -1.0       -1.0   \n",
      "1020194                         -1.0          -1.0         -1.0       -1.0   \n",
      "# Record: 1020195                NaN           NaN          NaN        NaN   \n",
      "\n",
      "                  RequestedLocalDiskSpace RequestedResources  \\\n",
      "index                                                          \n",
      "0                                    -1.0               -1.0   \n",
      "1                                    -1.0               -1.0   \n",
      "2                                    -1.0               -1.0   \n",
      "3                                    -1.0               -1.0   \n",
      "4                                    -1.0               -1.0   \n",
      "...                                   ...                ...   \n",
      "1020191                              -1.0               -1.0   \n",
      "1020192                              -1.0               -1.0   \n",
      "1020193                              -1.0               -1.0   \n",
      "1020194                              -1.0               -1.0   \n",
      "# Record: 1020195                     NaN                NaN   \n",
      "\n",
      "                   VirtualOrganizationId  ProjectId  \n",
      "index                                                \n",
      "0                                   -1.0        NaN  \n",
      "1                                   -1.0        NaN  \n",
      "2                                   -1.0        NaN  \n",
      "3                                   -1.0        NaN  \n",
      "4                                   -1.0        NaN  \n",
      "...                                  ...        ...  \n",
      "1020191                             -1.0        NaN  \n",
      "1020192                             -1.0        NaN  \n",
      "1020193                             -1.0        NaN  \n",
      "1020194                             -1.0        NaN  \n",
      "# Record: 1020195                    NaN        NaN  \n",
      "\n",
      "[1020196 rows x 29 columns]\n"
     ]
    }
   ],
   "source": [
    "#! C:\\Users\\saksh\\OneDrive\\Desktop\\New folder (2)\\newnev123\\Scripts\\python.exe\n",
    "\n",
    "import pandas as pd\n",
    "import numpy as np\n",
    "import tensorflow as tf\n",
    "\n",
    "with open('grid5000_clean_trace1.txt', 'r') as file:\n",
    "  data1 = file.read()\n",
    "\n",
    "file_path = 'grid5000_clean_trace1.txt'\n",
    "delimiter = '\\t'\n",
    "\n",
    "data_columns = ['index', 'JobId', 'SubmitTime', 'WaitTime', 'RunTime', 'NProc', 'AverageCPUTimeUsed', 'UsedMemory', 'ReqNProcs', 'ReqTime', 'ReqMemory', 'Status', 'UserId', 'GroupId', 'ExecutableId', 'QueueId', 'PartitionId', 'OrigSiteId', 'LastRunSiteId', 'JobStructure', 'JobStructureParams', 'UsedNetwork', 'UsedLocalDiskSpace', 'UsedResources', 'ReqPlatform', 'ReqNetwork', 'RequestedLocalDiskSpace', 'RequestedResources', 'VirtualOrganizationId', 'ProjectId']\n",
    "\n",
    "\n",
    "df_trace = pd.read_csv(file_path, delimiter=delimiter, names=data_columns, index_col=0)\n",
    "\n",
    "print(df_trace)"
   ]
  },
  {
   "cell_type": "code",
   "execution_count": 44,
   "metadata": {},
   "outputs": [],
   "source": [
    "df_trace.replace(-1, np.nan, inplace=True)"
   ]
  },
  {
   "cell_type": "code",
   "execution_count": 45,
   "metadata": {},
   "outputs": [
    {
     "data": {
      "text/plain": [
       "JobId                            1\n",
       "SubmitTime                   59931\n",
       "WaitTime                     69052\n",
       "RunTime                          1\n",
       "NProc                      1020196\n",
       "AverageCPUTimeUsed         1020196\n",
       "UsedMemory                       1\n",
       "ReqNProcs                        1\n",
       "ReqTime                    1020196\n",
       "ReqMemory                        1\n",
       "Status                           1\n",
       "UserId                           1\n",
       "GroupId                          1\n",
       "ExecutableId                     1\n",
       "QueueId                    1020196\n",
       "PartitionId                      1\n",
       "OrigSiteId                       1\n",
       "LastRunSiteId                    1\n",
       "JobStructure               1020196\n",
       "JobStructureParams         1020196\n",
       "UsedNetwork                1020196\n",
       "UsedLocalDiskSpace         1020196\n",
       "UsedResources              1020196\n",
       "ReqPlatform                1020196\n",
       "ReqNetwork                 1020196\n",
       "RequestedLocalDiskSpace    1020196\n",
       "RequestedResources         1020196\n",
       "VirtualOrganizationId      1020196\n",
       "ProjectId                  1020196\n",
       "dtype: int64"
      ]
     },
     "execution_count": 45,
     "metadata": {},
     "output_type": "execute_result"
    }
   ],
   "source": [
    "df_trace.isnull().sum()"
   ]
  },
  {
   "cell_type": "code",
   "execution_count": 46,
   "metadata": {},
   "outputs": [],
   "source": [
    "df_trace.dropna(how='all', inplace=True, axis=1)"
   ]
  },
  {
   "cell_type": "code",
   "execution_count": 47,
   "metadata": {},
   "outputs": [
    {
     "data": {
      "text/plain": [
       "JobId                1\n",
       "SubmitTime       59931\n",
       "WaitTime         69052\n",
       "RunTime              1\n",
       "UsedMemory           1\n",
       "ReqNProcs            1\n",
       "ReqMemory            1\n",
       "Status               1\n",
       "UserId               1\n",
       "GroupId              1\n",
       "ExecutableId         1\n",
       "PartitionId          1\n",
       "OrigSiteId           1\n",
       "LastRunSiteId        1\n",
       "dtype: int64"
      ]
     },
     "execution_count": 47,
     "metadata": {},
     "output_type": "execute_result"
    }
   ],
   "source": [
    "df_trace.isnull().sum()"
   ]
  },
  {
   "cell_type": "code",
   "execution_count": 48,
   "metadata": {},
   "outputs": [
    {
     "name": "stdout",
     "output_type": "stream",
     "text": [
      "JobId            float64\n",
      "SubmitTime       float64\n",
      "WaitTime         float64\n",
      "RunTime          float64\n",
      "UsedMemory       float64\n",
      "ReqNProcs        float64\n",
      "ReqMemory        float64\n",
      "Status            object\n",
      "UserId            object\n",
      "GroupId           object\n",
      "ExecutableId      object\n",
      "PartitionId       object\n",
      "OrigSiteId        object\n",
      "LastRunSiteId     object\n",
      "dtype: object\n"
     ]
    }
   ],
   "source": [
    "print(df_trace.dtypes)\n"
   ]
  },
  {
   "cell_type": "code",
   "execution_count": 49,
   "metadata": {},
   "outputs": [],
   "source": [
    "df_trace = df_trace.select_dtypes(exclude=['object'])"
   ]
  },
  {
   "cell_type": "code",
   "execution_count": 50,
   "metadata": {},
   "outputs": [
    {
     "data": {
      "text/plain": [
       "JobId         SubmitTime  WaitTime  RunTime  UsedMemory  ReqNProcs  ReqMemory\n",
       "1.121675e+09   3.0        11.0      2.0      2.0         3600.0     1.0          14\n",
       "              -2.0        17.0      2.0      2.0         3600.0     1.0          10\n",
       "               3.0        16.0      2.0      2.0         3600.0     1.0          10\n",
       "               1.0        18.0      2.0      2.0         3600.0     1.0           8\n",
       "1.121674e+09   2.0        13.0      2.0      2.0         3600.0     1.0           8\n",
       "                                                                                 ..\n",
       "1.127379e+09   1.0        73.0      2.0      2.0         3600.0     1.0           1\n",
       "                          1.0       1.0      1.0         3600.0     1.0           1\n",
       "                                    2.0      2.0         3600.0     1.0           1\n",
       "                          166.0     60.0     60.0        3600.0     1.0           1\n",
       "1.163165e+09   1.0        64.0      1.0      1.0         3600.0     1.0           1\n",
       "Name: count, Length: 878093, dtype: int64"
      ]
     },
     "execution_count": 50,
     "metadata": {},
     "output_type": "execute_result"
    }
   ],
   "source": [
    "df_trace.value_counts()"
   ]
  },
  {
   "cell_type": "code",
   "execution_count": 51,
   "metadata": {},
   "outputs": [
    {
     "data": {
      "text/plain": [
       "ReqNProcs\n",
       "3600.0      605088\n",
       "21600.0     106047\n",
       "14400.0      61649\n",
       "36000.0      44845\n",
       "18000.0      34148\n",
       "             ...  \n",
       "131290.0         1\n",
       "131331.0         1\n",
       "131395.0         1\n",
       "131394.0         1\n",
       "7120.0           1\n",
       "Name: count, Length: 2768, dtype: int64"
      ]
     },
     "execution_count": 51,
     "metadata": {},
     "output_type": "execute_result"
    }
   ],
   "source": [
    "df_trace['ReqNProcs'].value_counts()"
   ]
  },
  {
   "cell_type": "code",
   "execution_count": 52,
   "metadata": {},
   "outputs": [
    {
     "data": {
      "text/html": [
       "<div>\n",
       "<style scoped>\n",
       "    .dataframe tbody tr th:only-of-type {\n",
       "        vertical-align: middle;\n",
       "    }\n",
       "\n",
       "    .dataframe tbody tr th {\n",
       "        vertical-align: top;\n",
       "    }\n",
       "\n",
       "    .dataframe thead th {\n",
       "        text-align: right;\n",
       "    }\n",
       "</style>\n",
       "<table border=\"1\" class=\"dataframe\">\n",
       "  <thead>\n",
       "    <tr style=\"text-align: right;\">\n",
       "      <th></th>\n",
       "      <th>JobId</th>\n",
       "      <th>SubmitTime</th>\n",
       "      <th>WaitTime</th>\n",
       "      <th>RunTime</th>\n",
       "      <th>UsedMemory</th>\n",
       "      <th>ReqNProcs</th>\n",
       "      <th>ReqMemory</th>\n",
       "    </tr>\n",
       "    <tr>\n",
       "      <th>index</th>\n",
       "      <th></th>\n",
       "      <th></th>\n",
       "      <th></th>\n",
       "      <th></th>\n",
       "      <th></th>\n",
       "      <th></th>\n",
       "      <th></th>\n",
       "    </tr>\n",
       "  </thead>\n",
       "  <tbody>\n",
       "    <tr>\n",
       "      <th>0</th>\n",
       "      <td>1.083659e+09</td>\n",
       "      <td>1.0</td>\n",
       "      <td>0.0</td>\n",
       "      <td>4.0</td>\n",
       "      <td>4.0</td>\n",
       "      <td>3600.0</td>\n",
       "      <td>1.0</td>\n",
       "    </tr>\n",
       "    <tr>\n",
       "      <th>1</th>\n",
       "      <td>1.083659e+09</td>\n",
       "      <td>1.0</td>\n",
       "      <td>19.0</td>\n",
       "      <td>1.0</td>\n",
       "      <td>1.0</td>\n",
       "      <td>3600.0</td>\n",
       "      <td>1.0</td>\n",
       "    </tr>\n",
       "    <tr>\n",
       "      <th>2</th>\n",
       "      <td>1.083659e+09</td>\n",
       "      <td>2.0</td>\n",
       "      <td>10.0</td>\n",
       "      <td>5.0</td>\n",
       "      <td>5.0</td>\n",
       "      <td>3600.0</td>\n",
       "      <td>1.0</td>\n",
       "    </tr>\n",
       "    <tr>\n",
       "      <th>3</th>\n",
       "      <td>1.083659e+09</td>\n",
       "      <td>5.0</td>\n",
       "      <td>8.0</td>\n",
       "      <td>90.0</td>\n",
       "      <td>90.0</td>\n",
       "      <td>3600.0</td>\n",
       "      <td>1.0</td>\n",
       "    </tr>\n",
       "    <tr>\n",
       "      <th>4</th>\n",
       "      <td>1.083659e+09</td>\n",
       "      <td>5.0</td>\n",
       "      <td>19.0</td>\n",
       "      <td>100.0</td>\n",
       "      <td>100.0</td>\n",
       "      <td>3600.0</td>\n",
       "      <td>1.0</td>\n",
       "    </tr>\n",
       "  </tbody>\n",
       "</table>\n",
       "</div>"
      ],
      "text/plain": [
       "              JobId  SubmitTime  WaitTime  RunTime  UsedMemory  ReqNProcs  \\\n",
       "index                                                                       \n",
       "0      1.083659e+09         1.0       0.0      4.0         4.0     3600.0   \n",
       "1      1.083659e+09         1.0      19.0      1.0         1.0     3600.0   \n",
       "2      1.083659e+09         2.0      10.0      5.0         5.0     3600.0   \n",
       "3      1.083659e+09         5.0       8.0     90.0        90.0     3600.0   \n",
       "4      1.083659e+09         5.0      19.0    100.0       100.0     3600.0   \n",
       "\n",
       "       ReqMemory  \n",
       "index             \n",
       "0            1.0  \n",
       "1            1.0  \n",
       "2            1.0  \n",
       "3            1.0  \n",
       "4            1.0  "
      ]
     },
     "execution_count": 52,
     "metadata": {},
     "output_type": "execute_result"
    }
   ],
   "source": [
    "df_trace.head()"
   ]
  },
  {
   "cell_type": "code",
   "execution_count": 53,
   "metadata": {},
   "outputs": [],
   "source": [
    "df_trace.drop(['JobId'], axis=1, inplace=True)"
   ]
  },
  {
   "cell_type": "code",
   "execution_count": 54,
   "metadata": {},
   "outputs": [
    {
     "data": {
      "text/plain": [
       "SubmitTime    59931\n",
       "WaitTime      69052\n",
       "RunTime           1\n",
       "UsedMemory        1\n",
       "ReqNProcs         1\n",
       "ReqMemory         1\n",
       "dtype: int64"
      ]
     },
     "execution_count": 54,
     "metadata": {},
     "output_type": "execute_result"
    }
   ],
   "source": [
    "df_trace.isnull().sum()"
   ]
  },
  {
   "cell_type": "code",
   "execution_count": 55,
   "metadata": {},
   "outputs": [],
   "source": [
    "df_trace = df_trace.fillna(df_trace.mean())"
   ]
  },
  {
   "cell_type": "code",
   "execution_count": 56,
   "metadata": {},
   "outputs": [],
   "source": [
    "from sklearn.model_selection import train_test_split\n"
   ]
  },
  {
   "cell_type": "code",
   "execution_count": 57,
   "metadata": {},
   "outputs": [],
   "source": [
    "from sklearn.preprocessing import StandardScaler"
   ]
  },
  {
   "cell_type": "code",
   "execution_count": 64,
   "metadata": {},
   "outputs": [
    {
     "name": "stderr",
     "output_type": "stream",
     "text": [
      "C:\\Users\\saksh\\AppData\\Roaming\\Python\\Python312\\site-packages\\keras\\src\\layers\\core\\dense.py:86: UserWarning: Do not pass an `input_shape`/`input_dim` argument to a layer. When using Sequential models, prefer using an `Input(shape)` object as the first layer in the model instead.\n",
      "  super().__init__(activity_regularizer=activity_regularizer, **kwargs)\n"
     ]
    },
    {
     "name": "stdout",
     "output_type": "stream",
     "text": [
      "Epoch 1/50\n",
      "\u001b[1m638/638\u001b[0m \u001b[32m━━━━━━━━━━━━━━━━━━━━\u001b[0m\u001b[37m\u001b[0m \u001b[1m9s\u001b[0m 8ms/step - loss: 97.5512 - val_loss: 0.0668\n",
      "Epoch 2/50\n",
      "\u001b[1m638/638\u001b[0m \u001b[32m━━━━━━━━━━━━━━━━━━━━\u001b[0m\u001b[37m\u001b[0m \u001b[1m5s\u001b[0m 7ms/step - loss: 0.0643 - val_loss: 0.0127\n",
      "Epoch 3/50\n",
      "\u001b[1m638/638\u001b[0m \u001b[32m━━━━━━━━━━━━━━━━━━━━\u001b[0m\u001b[37m\u001b[0m \u001b[1m5s\u001b[0m 7ms/step - loss: 0.1065 - val_loss: 0.1324\n",
      "Epoch 4/50\n",
      "\u001b[1m638/638\u001b[0m \u001b[32m━━━━━━━━━━━━━━━━━━━━\u001b[0m\u001b[37m\u001b[0m \u001b[1m5s\u001b[0m 7ms/step - loss: 0.0937 - val_loss: 0.0132\n",
      "Epoch 5/50\n",
      "\u001b[1m638/638\u001b[0m \u001b[32m━━━━━━━━━━━━━━━━━━━━\u001b[0m\u001b[37m\u001b[0m \u001b[1m4s\u001b[0m 7ms/step - loss: 0.0826 - val_loss: 0.0940\n",
      "Epoch 6/50\n",
      "\u001b[1m638/638\u001b[0m \u001b[32m━━━━━━━━━━━━━━━━━━━━\u001b[0m\u001b[37m\u001b[0m \u001b[1m4s\u001b[0m 7ms/step - loss: 0.0764 - val_loss: 0.0207\n",
      "Epoch 7/50\n",
      "\u001b[1m638/638\u001b[0m \u001b[32m━━━━━━━━━━━━━━━━━━━━\u001b[0m\u001b[37m\u001b[0m \u001b[1m5s\u001b[0m 7ms/step - loss: 0.0166 - val_loss: 0.0712\n",
      "Epoch 8/50\n",
      "\u001b[1m638/638\u001b[0m \u001b[32m━━━━━━━━━━━━━━━━━━━━\u001b[0m\u001b[37m\u001b[0m \u001b[1m5s\u001b[0m 7ms/step - loss: 0.0528 - val_loss: 0.0198\n",
      "Epoch 9/50\n",
      "\u001b[1m638/638\u001b[0m \u001b[32m━━━━━━━━━━━━━━━━━━━━\u001b[0m\u001b[37m\u001b[0m \u001b[1m5s\u001b[0m 7ms/step - loss: 0.2704 - val_loss: 0.0367\n",
      "Epoch 10/50\n",
      "\u001b[1m638/638\u001b[0m \u001b[32m━━━━━━━━━━━━━━━━━━━━\u001b[0m\u001b[37m\u001b[0m \u001b[1m4s\u001b[0m 7ms/step - loss: 0.0336 - val_loss: 0.0157\n",
      "Epoch 11/50\n",
      "\u001b[1m638/638\u001b[0m \u001b[32m━━━━━━━━━━━━━━━━━━━━\u001b[0m\u001b[37m\u001b[0m \u001b[1m4s\u001b[0m 7ms/step - loss: 0.0231 - val_loss: 0.3542\n",
      "Epoch 12/50\n",
      "\u001b[1m638/638\u001b[0m \u001b[32m━━━━━━━━━━━━━━━━━━━━\u001b[0m\u001b[37m\u001b[0m \u001b[1m4s\u001b[0m 7ms/step - loss: 0.0916 - val_loss: 0.0149\n",
      "Epoch 13/50\n",
      "\u001b[1m638/638\u001b[0m \u001b[32m━━━━━━━━━━━━━━━━━━━━\u001b[0m\u001b[37m\u001b[0m \u001b[1m4s\u001b[0m 7ms/step - loss: 0.0311 - val_loss: 0.0065\n",
      "Epoch 14/50\n",
      "\u001b[1m638/638\u001b[0m \u001b[32m━━━━━━━━━━━━━━━━━━━━\u001b[0m\u001b[37m\u001b[0m \u001b[1m4s\u001b[0m 7ms/step - loss: 0.0052 - val_loss: 0.0083\n",
      "Epoch 15/50\n",
      "\u001b[1m638/638\u001b[0m \u001b[32m━━━━━━━━━━━━━━━━━━━━\u001b[0m\u001b[37m\u001b[0m \u001b[1m5s\u001b[0m 7ms/step - loss: 0.0385 - val_loss: 0.0017\n",
      "Epoch 16/50\n",
      "\u001b[1m638/638\u001b[0m \u001b[32m━━━━━━━━━━━━━━━━━━━━\u001b[0m\u001b[37m\u001b[0m \u001b[1m4s\u001b[0m 7ms/step - loss: 0.0131 - val_loss: 0.0030\n",
      "Epoch 17/50\n",
      "\u001b[1m638/638\u001b[0m \u001b[32m━━━━━━━━━━━━━━━━━━━━\u001b[0m\u001b[37m\u001b[0m \u001b[1m4s\u001b[0m 7ms/step - loss: 0.3214 - val_loss: 0.0398\n",
      "Epoch 18/50\n",
      "\u001b[1m638/638\u001b[0m \u001b[32m━━━━━━━━━━━━━━━━━━━━\u001b[0m\u001b[37m\u001b[0m \u001b[1m4s\u001b[0m 7ms/step - loss: 0.0100 - val_loss: 0.0020\n",
      "Epoch 19/50\n",
      "\u001b[1m638/638\u001b[0m \u001b[32m━━━━━━━━━━━━━━━━━━━━\u001b[0m\u001b[37m\u001b[0m \u001b[1m4s\u001b[0m 7ms/step - loss: 0.0158 - val_loss: 0.0041\n",
      "Epoch 20/50\n",
      "\u001b[1m638/638\u001b[0m \u001b[32m━━━━━━━━━━━━━━━━━━━━\u001b[0m\u001b[37m\u001b[0m \u001b[1m4s\u001b[0m 7ms/step - loss: 0.0060 - val_loss: 0.0204\n",
      "Epoch 21/50\n",
      "\u001b[1m638/638\u001b[0m \u001b[32m━━━━━━━━━━━━━━━━━━━━\u001b[0m\u001b[37m\u001b[0m \u001b[1m5s\u001b[0m 7ms/step - loss: 0.5184 - val_loss: 0.0014\n",
      "Epoch 22/50\n",
      "\u001b[1m638/638\u001b[0m \u001b[32m━━━━━━━━━━━━━━━━━━━━\u001b[0m\u001b[37m\u001b[0m \u001b[1m5s\u001b[0m 7ms/step - loss: 0.0031 - val_loss: 0.0070\n",
      "Epoch 23/50\n",
      "\u001b[1m638/638\u001b[0m \u001b[32m━━━━━━━━━━━━━━━━━━━━\u001b[0m\u001b[37m\u001b[0m \u001b[1m5s\u001b[0m 7ms/step - loss: 0.0759 - val_loss: 8.1316e-04\n",
      "Epoch 24/50\n",
      "\u001b[1m638/638\u001b[0m \u001b[32m━━━━━━━━━━━━━━━━━━━━\u001b[0m\u001b[37m\u001b[0m \u001b[1m4s\u001b[0m 7ms/step - loss: 0.0017 - val_loss: 0.0011\n",
      "Epoch 25/50\n",
      "\u001b[1m638/638\u001b[0m \u001b[32m━━━━━━━━━━━━━━━━━━━━\u001b[0m\u001b[37m\u001b[0m \u001b[1m4s\u001b[0m 7ms/step - loss: 0.0426 - val_loss: 0.0112\n",
      "Epoch 26/50\n",
      "\u001b[1m638/638\u001b[0m \u001b[32m━━━━━━━━━━━━━━━━━━━━\u001b[0m\u001b[37m\u001b[0m \u001b[1m4s\u001b[0m 7ms/step - loss: 0.0136 - val_loss: 0.0016\n",
      "Epoch 27/50\n",
      "\u001b[1m638/638\u001b[0m \u001b[32m━━━━━━━━━━━━━━━━━━━━\u001b[0m\u001b[37m\u001b[0m \u001b[1m4s\u001b[0m 7ms/step - loss: 0.0302 - val_loss: 0.0054\n",
      "Epoch 28/50\n",
      "\u001b[1m638/638\u001b[0m \u001b[32m━━━━━━━━━━━━━━━━━━━━\u001b[0m\u001b[37m\u001b[0m \u001b[1m4s\u001b[0m 7ms/step - loss: 0.0249 - val_loss: 0.0074\n",
      "Epoch 29/50\n",
      "\u001b[1m638/638\u001b[0m \u001b[32m━━━━━━━━━━━━━━━━━━━━\u001b[0m\u001b[37m\u001b[0m \u001b[1m4s\u001b[0m 7ms/step - loss: 0.0298 - val_loss: 0.0199\n",
      "Epoch 30/50\n",
      "\u001b[1m638/638\u001b[0m \u001b[32m━━━━━━━━━━━━━━━━━━━━\u001b[0m\u001b[37m\u001b[0m \u001b[1m4s\u001b[0m 7ms/step - loss: 0.0096 - val_loss: 0.0336\n",
      "Epoch 31/50\n",
      "\u001b[1m638/638\u001b[0m \u001b[32m━━━━━━━━━━━━━━━━━━━━\u001b[0m\u001b[37m\u001b[0m \u001b[1m4s\u001b[0m 7ms/step - loss: 0.0273 - val_loss: 0.0021\n",
      "Epoch 32/50\n",
      "\u001b[1m638/638\u001b[0m \u001b[32m━━━━━━━━━━━━━━━━━━━━\u001b[0m\u001b[37m\u001b[0m \u001b[1m4s\u001b[0m 7ms/step - loss: 0.0102 - val_loss: 0.1844\n",
      "Epoch 33/50\n",
      "\u001b[1m638/638\u001b[0m \u001b[32m━━━━━━━━━━━━━━━━━━━━\u001b[0m\u001b[37m\u001b[0m \u001b[1m5s\u001b[0m 7ms/step - loss: 0.1271 - val_loss: 0.0104\n",
      "Epoch 34/50\n",
      "\u001b[1m638/638\u001b[0m \u001b[32m━━━━━━━━━━━━━━━━━━━━\u001b[0m\u001b[37m\u001b[0m \u001b[1m5s\u001b[0m 7ms/step - loss: 0.0079 - val_loss: 0.0041\n",
      "Epoch 35/50\n",
      "\u001b[1m638/638\u001b[0m \u001b[32m━━━━━━━━━━━━━━━━━━━━\u001b[0m\u001b[37m\u001b[0m \u001b[1m5s\u001b[0m 7ms/step - loss: 0.0161 - val_loss: 0.0025\n",
      "Epoch 36/50\n",
      "\u001b[1m638/638\u001b[0m \u001b[32m━━━━━━━━━━━━━━━━━━━━\u001b[0m\u001b[37m\u001b[0m \u001b[1m5s\u001b[0m 7ms/step - loss: 0.0032 - val_loss: 0.0272\n",
      "Epoch 37/50\n",
      "\u001b[1m638/638\u001b[0m \u001b[32m━━━━━━━━━━━━━━━━━━━━\u001b[0m\u001b[37m\u001b[0m \u001b[1m4s\u001b[0m 7ms/step - loss: 0.0093 - val_loss: 0.0018\n",
      "Epoch 38/50\n",
      "\u001b[1m638/638\u001b[0m \u001b[32m━━━━━━━━━━━━━━━━━━━━\u001b[0m\u001b[37m\u001b[0m \u001b[1m5s\u001b[0m 7ms/step - loss: 0.0295 - val_loss: 0.0485\n",
      "Epoch 39/50\n",
      "\u001b[1m638/638\u001b[0m \u001b[32m━━━━━━━━━━━━━━━━━━━━\u001b[0m\u001b[37m\u001b[0m \u001b[1m4s\u001b[0m 7ms/step - loss: 0.0160 - val_loss: 0.0015\n",
      "Epoch 40/50\n",
      "\u001b[1m638/638\u001b[0m \u001b[32m━━━━━━━━━━━━━━━━━━━━\u001b[0m\u001b[37m\u001b[0m \u001b[1m4s\u001b[0m 7ms/step - loss: 0.0031 - val_loss: 0.0022\n",
      "Epoch 41/50\n",
      "\u001b[1m638/638\u001b[0m \u001b[32m━━━━━━━━━━━━━━━━━━━━\u001b[0m\u001b[37m\u001b[0m \u001b[1m4s\u001b[0m 7ms/step - loss: 0.0159 - val_loss: 0.0040\n",
      "Epoch 42/50\n",
      "\u001b[1m638/638\u001b[0m \u001b[32m━━━━━━━━━━━━━━━━━━━━\u001b[0m\u001b[37m\u001b[0m \u001b[1m4s\u001b[0m 7ms/step - loss: 0.0042 - val_loss: 0.0015\n",
      "Epoch 43/50\n",
      "\u001b[1m638/638\u001b[0m \u001b[32m━━━━━━━━━━━━━━━━━━━━\u001b[0m\u001b[37m\u001b[0m \u001b[1m4s\u001b[0m 7ms/step - loss: 0.0525 - val_loss: 0.0015\n",
      "Epoch 44/50\n",
      "\u001b[1m638/638\u001b[0m \u001b[32m━━━━━━━━━━━━━━━━━━━━\u001b[0m\u001b[37m\u001b[0m \u001b[1m4s\u001b[0m 7ms/step - loss: 0.0088 - val_loss: 0.0075\n",
      "Epoch 45/50\n",
      "\u001b[1m638/638\u001b[0m \u001b[32m━━━━━━━━━━━━━━━━━━━━\u001b[0m\u001b[37m\u001b[0m \u001b[1m4s\u001b[0m 7ms/step - loss: 0.0099 - val_loss: 0.0020\n",
      "Epoch 46/50\n",
      "\u001b[1m638/638\u001b[0m \u001b[32m━━━━━━━━━━━━━━━━━━━━\u001b[0m\u001b[37m\u001b[0m \u001b[1m4s\u001b[0m 7ms/step - loss: 0.0029 - val_loss: 0.0016\n",
      "Epoch 47/50\n",
      "\u001b[1m638/638\u001b[0m \u001b[32m━━━━━━━━━━━━━━━━━━━━\u001b[0m\u001b[37m\u001b[0m \u001b[1m4s\u001b[0m 7ms/step - loss: 0.0149 - val_loss: 0.0628\n",
      "Epoch 48/50\n",
      "\u001b[1m638/638\u001b[0m \u001b[32m━━━━━━━━━━━━━━━━━━━━\u001b[0m\u001b[37m\u001b[0m \u001b[1m4s\u001b[0m 7ms/step - loss: 0.0189 - val_loss: 0.0016\n",
      "Epoch 49/50\n",
      "\u001b[1m638/638\u001b[0m \u001b[32m━━━━━━━━━━━━━━━━━━━━\u001b[0m\u001b[37m\u001b[0m \u001b[1m4s\u001b[0m 7ms/step - loss: 0.0128 - val_loss: 0.0180\n",
      "Epoch 50/50\n",
      "\u001b[1m638/638\u001b[0m \u001b[32m━━━━━━━━━━━━━━━━━━━━\u001b[0m\u001b[37m\u001b[0m \u001b[1m4s\u001b[0m 7ms/step - loss: 0.0106 - val_loss: 0.0049\n",
      "\u001b[1m6377/6377\u001b[0m \u001b[32m━━━━━━━━━━━━━━━━━━━━\u001b[0m\u001b[37m\u001b[0m \u001b[1m11s\u001b[0m 2ms/step\n",
      "        Original   Predicted\n",
      "index                       \n",
      "860646       2.0    2.002924\n",
      "416485       1.0    1.013264\n",
      "295413       2.0    1.998817\n",
      "621575     190.0  190.385849\n",
      "280945       1.0    0.996649\n",
      "...          ...         ...\n",
      "952263       1.0    0.996649\n",
      "384652       1.0    0.996649\n",
      "599350       1.0    0.999504\n",
      "479197       2.0    1.999225\n",
      "154978       1.0    0.996649\n",
      "\n",
      "[204040 rows x 2 columns]\n"
     ]
    }
   ],
   "source": [
    "\n",
    "from tensorflow import keras\n",
    "import pandas as pd\n",
    "\n",
    "X = df_trace[['SubmitTime', 'UsedMemory', 'ReqNProcs', 'ReqMemory']]\n",
    "y = df_trace['RunTime']\n",
    "\n",
    "X_train, X_test, y_train, y_test = train_test_split(X, y, test_size=0.2, random_state=42)\n",
    "\n",
    "scaler = StandardScaler()\n",
    "X_train_scaled = scaler.fit_transform(X_train)\n",
    "X_test_scaled = scaler.transform(X_test)\n",
    "\n",
    "\n",
    "model_nn = keras.Sequential()\n",
    "\n",
    "# Input layer\n",
    "model_nn.add(keras.layers.Dense(64, activation='relu', input_shape=(X_train_scaled.shape[1],)))\n",
    "\n",
    "# Hidden layers\n",
    "for _ in range(6):  # Adding 6 hidden layers\n",
    "    model_nn.add(keras.layers.Dense(64, activation='relu'))\n",
    "\n",
    "# Output layer\n",
    "model_nn.add(keras.layers.Dense(1))\n",
    "\n",
    "optimizer = keras.optimizers.Adam(learning_rate=0.001)\n",
    "model_nn.compile(optimizer=optimizer, loss='mean_squared_error')\n",
    "\n",
    "model_nn.fit(X_train_scaled, y_train, epochs=50, batch_size=1024, validation_split=0.2)\n",
    "\n",
    "\n",
    "y_pred_nn = model_nn.predict(X_test_scaled)\n",
    "\n",
    "results_nn = pd.DataFrame({'Original': y_test, 'Predicted': y_pred_nn.flatten()})\n",
    "\n",
    "print(results_nn)\n"
   ]
  },
  {
   "cell_type": "code",
   "execution_count": 65,
   "metadata": {},
   "outputs": [
    {
     "name": "stdout",
     "output_type": "stream",
     "text": [
      "        Original   Predicted\n",
      "index                       \n",
      "860646       2.0    2.002924\n",
      "416485       1.0    1.013264\n",
      "295413       2.0    1.998817\n",
      "621575     190.0  190.385849\n",
      "280945       1.0    0.996649\n",
      "...          ...         ...\n",
      "952263       1.0    0.996649\n",
      "384652       1.0    0.996649\n",
      "599350       1.0    0.999504\n",
      "479197       2.0    1.999225\n",
      "154978       1.0    0.996649\n",
      "\n",
      "[204040 rows x 2 columns]\n"
     ]
    }
   ],
   "source": [
    "print(results_nn)\n"
   ]
  },
  {
   "cell_type": "code",
   "execution_count": 66,
   "metadata": {},
   "outputs": [
    {
     "name": "stdout",
     "output_type": "stream",
     "text": [
      "Mean Absolute Error (MAE): 0.012355760970295141\n",
      "Mean Squared Error (MSE): 0.006199119205822103\n",
      "R-squared (R^2) score: 0.9999858388562451\n"
     ]
    }
   ],
   "source": [
    "from sklearn.metrics import mean_absolute_error, mean_squared_error, r2_score\n",
    "\n",
    "# Calculate Mean Absolute Error (MAE)\n",
    "mae = mean_absolute_error(y_test, y_pred_nn)\n",
    "print(\"Mean Absolute Error (MAE):\", mae)\n",
    "\n",
    "# Calculate Mean Squared Error (MSE)\n",
    "mse = mean_squared_error(y_test, y_pred_nn)\n",
    "print(\"Mean Squared Error (MSE):\", mse)\n",
    "\n",
    "# Calculate R-squared (R^2) score\n",
    "r2 = r2_score(y_test, y_pred_nn)\n",
    "print(\"R-squared (R^2) score:\", r2)\n"
   ]
  },
  {
   "cell_type": "code",
   "execution_count": 67,
   "metadata": {},
   "outputs": [
    {
     "name": "stderr",
     "output_type": "stream",
     "text": [
      "WARNING:absl:You are saving your model as an HDF5 file via `model.save()` or `keras.saving.save_model(model)`. This file format is considered legacy. We recommend using instead the native Keras format, e.g. `model.save('my_model.keras')` or `keras.saving.save_model(model, 'my_model.keras')`. \n"
     ]
    }
   ],
   "source": [
    "model_nn.save('CPUBurstTime.h5')\n"
   ]
  },
  {
   "cell_type": "code",
   "execution_count": 68,
   "metadata": {},
   "outputs": [
    {
     "name": "stderr",
     "output_type": "stream",
     "text": [
      "WARNING:absl:Compiled the loaded model, but the compiled metrics have yet to be built. `model.compile_metrics` will be empty until you train or evaluate the model.\n"
     ]
    }
   ],
   "source": [
    "from tensorflow.keras.models import load_model\n",
    "\n",
    "loaded_model = load_model('CPUBurstTime.h5')\n"
   ]
  },
  {
   "cell_type": "code",
   "execution_count": 70,
   "metadata": {},
   "outputs": [
    {
     "name": "stderr",
     "output_type": "stream",
     "text": [
      "C:\\Users\\saksh\\AppData\\Roaming\\Python\\Python312\\site-packages\\sklearn\\base.py:493: UserWarning: X does not have valid feature names, but StandardScaler was fitted with feature names\n",
      "  warnings.warn(\n"
     ]
    },
    {
     "name": "stdout",
     "output_type": "stream",
     "text": [
      "\u001b[1m1/1\u001b[0m \u001b[32m━━━━━━━━━━━━━━━━━━━━\u001b[0m\u001b[37m\u001b[0m \u001b[1m0s\u001b[0m 49ms/step\n",
      "[[50.009686]]\n"
     ]
    }
   ],
   "source": [
    "import numpy as np\n",
    "\n",
    "custom_data = np.array([[30, 50, 41, 40]])\n",
    "\n",
    "custom_data_scaled = scaler.transform(custom_data)  \n",
    "\n",
    "y_pred_custom_data = loaded_model.predict(custom_data_scaled)\n",
    "\n",
    "print(y_pred_custom_data)\n"
   ]
  },
  {
   "cell_type": "code",
   "execution_count": null,
   "metadata": {},
   "outputs": [],
   "source": []
  },
  {
   "cell_type": "code",
   "execution_count": null,
   "metadata": {},
   "outputs": [],
   "source": [
    "\n"
   ]
  }
 ],
 "metadata": {
  "kernelspec": {
   "display_name": "newnev123",
   "language": "python",
   "name": "python3"
  },
  "language_info": {
   "codemirror_mode": {
    "name": "ipython",
    "version": 3
   },
   "file_extension": ".py",
   "mimetype": "text/x-python",
   "name": "python",
   "nbconvert_exporter": "python",
   "pygments_lexer": "ipython3",
   "version": "3.12.2"
  }
 },
 "nbformat": 4,
 "nbformat_minor": 2
}
